{
 "cells": [
  {
   "cell_type": "code",
   "execution_count": 35,
   "metadata": {},
   "outputs": [],
   "source": [
    "import scipy.io\n",
    "import os\n",
    "import glob \n",
    "import pandas as pd\n",
    "import matplotlib.pyplot as plt \n",
    "import numpy as np\n",
    "\n",
    "#edit local path\n",
    "path = \"dataset/*\"\n",
    "\n",
    "plt.rcParams['figure.figsize'] = [20, 10]\n"
   ]
  },
  {
   "cell_type": "markdown",
   "metadata": {},
   "source": [
    "# Notes\n",
    "\n",
    "### short description of each column in the file, given minor investigation\n",
    "    \n",
    "    - '__header__' irrelevant and should be dropped\n",
    "    - '__version__' irrelevant and should be dropped\n",
    "    - '__globals__' unsure, might be variables in the .mat file\n",
    "    - 'handle_arrow_rand' randomness array? just and array of 1s and 2s \n",
    "    - 'no_movements' holds array with integer 30\n",
    "    - 'time_cue_on' formatted as a array of floats -> its a date and needs reformatting // 30 timestamps\n",
    "    - 'time_cue_off' formatted as array of floats -> its a date and needs reformatting // 1219 timestamps\n",
    "    - 'TriggerPoint' holds 61 timestamps\n",
    "    - 'delay_T1' holds a constant 3 \n",
    "    - 'delay_random_T1' holds a constant 2\n",
    "    - 'delay_T2' holds a constant 0.1\n",
    "    - 'sample_rate' likely Hz // holds constant 1200\n",
    "    - 'time_window' holds a constant 3\n",
    "    - 'no_time_windows' holds a constant 1000\n",
    "    - 'filter_code_eeg' holds a constant 38 (could refer to what type of filter e.g. butterworth?)\n",
    "    - 'time_start_device1' holds timestamp for when recording began\n",
    "    - 'time_after_first_window' holds timestamp\n",
    "    - 'time_after_last_window' holds timestamp\n",
    "    - 'time_stop_device1' holds timestamp of when recording ended\n",
    "    - 'data_device1' dataframe of 16 columns (likely 16 channels?, however mail stated 12 channels + 13th being EMG) size 405824x16 for cue_set1 and 446912x16 for cue_set2\n",
    "    - 'time_axis_all_device1' potentially holds timestamps from recording start? has 1x402224 and 1x443312 shape for cue_set1 and cue_set2 respectively. (number of indices almost line up with data_device1)\n"
   ]
  },
  {
   "cell_type": "markdown",
   "metadata": {},
   "source": [
    "### Load data"
   ]
  },
  {
   "cell_type": "code",
   "execution_count": 36,
   "metadata": {},
   "outputs": [],
   "source": [
    "cue_sets = []\n",
    "\n",
    "for file in glob.glob(path, recursive=True):\n",
    "    cue_sets.append(scipy.io.loadmat(file))"
   ]
  },
  {
   "cell_type": "code",
   "execution_count": 37,
   "metadata": {},
   "outputs": [],
   "source": [
    "cue_set_01 = cue_sets[0]\n",
    "cue_set_02 = cue_sets[1]"
   ]
  },
  {
   "cell_type": "code",
   "execution_count": 38,
   "metadata": {},
   "outputs": [
    {
     "name": "stdout",
     "output_type": "stream",
     "text": [
      " # # - cue_set_1 - # # \n",
      " # # - cue_set_2 - # # \n"
     ]
    }
   ],
   "source": [
    "counter = 1\n",
    "for cue_set in cue_sets:\n",
    "    \n",
    "    print(f' # # - cue_set_{counter} - # # ')\n",
    "    keys = cue_set.keys()\n",
    "        \n",
    "    data = []\n",
    "    for key in keys:\n",
    "        data.append(cue_set[key])\n",
    "    \n",
    "    counter += 1 \n"
   ]
  },
  {
   "cell_type": "code",
   "execution_count": 39,
   "metadata": {
    "scrolled": false
   },
   "outputs": [
    {
     "data": {
      "text/plain": "              0         1         2         3         4         5         6   \\\n0       0.000258  0.000272  0.000064  0.000609  0.000055  0.000257 -0.000007   \n1       0.052644  0.007779 -0.013178 -0.011900 -0.009890  0.004895 -0.011826   \n2      -0.018937 -0.006850 -0.014828 -0.012735 -0.016893 -0.011796 -0.016083   \n3      -0.017449 -0.009423 -0.020752 -0.019010 -0.024620 -0.015835 -0.023497   \n4      -0.019193 -0.009692 -0.021968 -0.019929 -0.025658 -0.016586 -0.024548   \n...          ...       ...       ...       ...       ...       ...       ...   \n405819 -0.017999 -0.009966 -0.018244 -0.020071 -0.026619 -0.016393 -0.022933   \n405820 -0.018010 -0.009973 -0.018249 -0.020080 -0.026629 -0.016405 -0.022943   \n405821 -0.018020 -0.009980 -0.018257 -0.020077 -0.026634 -0.016416 -0.022952   \n405822 -0.018037 -0.009989 -0.018272 -0.020077 -0.026638 -0.016420 -0.022953   \n405823 -0.018042 -0.009995 -0.018276 -0.020074 -0.026642 -0.016424 -0.022955   \n\n              7         8         9         10        11        12        13  \\\n0      -0.000099 -0.000308  0.000339  0.000280  0.000032  0.000079  0.000185   \n1      -0.014831 -0.051013  0.052730  0.143087  0.052914 -0.034878 -0.053215   \n2      -0.008713 -0.001338 -0.008554  0.177096  0.185288  0.006653 -0.047167   \n3      -0.013807 -0.008897 -0.002519  0.246563  0.245063 -0.026257 -0.035837   \n4      -0.014334 -0.008702 -0.003762  0.260248  0.259745 -0.043538 -0.024397   \n...          ...       ...       ...       ...       ...       ...       ...   \n405819 -0.012371 -0.009561 -0.004790  0.247545  0.247177  0.058031 -0.138931   \n405820 -0.012383 -0.009570 -0.004801  0.247942  0.247574  0.048608 -0.129188   \n405821 -0.012391 -0.009573 -0.004793  0.249757  0.249391  0.036568 -0.112828   \n405822 -0.012395 -0.009573 -0.004794  0.251253  0.250888  0.019876 -0.093358   \n405823 -0.012398 -0.009571 -0.004800  0.252799  0.252435  0.000201 -0.070767   \n\n              14        15  \n0       0.000011  0.000299  \n1      -0.020476  0.021011  \n2      -0.014965 -0.040797  \n3      -0.030295 -0.040202  \n4      -0.029768 -0.046494  \n...          ...       ...  \n405819  0.000381 -0.088700  \n405820 -0.002052 -0.085681  \n405821 -0.007677 -0.077072  \n405822 -0.013501 -0.069212  \n405823 -0.018614 -0.061896  \n\n[405824 rows x 16 columns]",
      "text/html": "<div>\n<style scoped>\n    .dataframe tbody tr th:only-of-type {\n        vertical-align: middle;\n    }\n\n    .dataframe tbody tr th {\n        vertical-align: top;\n    }\n\n    .dataframe thead th {\n        text-align: right;\n    }\n</style>\n<table border=\"1\" class=\"dataframe\">\n  <thead>\n    <tr style=\"text-align: right;\">\n      <th></th>\n      <th>0</th>\n      <th>1</th>\n      <th>2</th>\n      <th>3</th>\n      <th>4</th>\n      <th>5</th>\n      <th>6</th>\n      <th>7</th>\n      <th>8</th>\n      <th>9</th>\n      <th>10</th>\n      <th>11</th>\n      <th>12</th>\n      <th>13</th>\n      <th>14</th>\n      <th>15</th>\n    </tr>\n  </thead>\n  <tbody>\n    <tr>\n      <th>0</th>\n      <td>0.000258</td>\n      <td>0.000272</td>\n      <td>0.000064</td>\n      <td>0.000609</td>\n      <td>0.000055</td>\n      <td>0.000257</td>\n      <td>-0.000007</td>\n      <td>-0.000099</td>\n      <td>-0.000308</td>\n      <td>0.000339</td>\n      <td>0.000280</td>\n      <td>0.000032</td>\n      <td>0.000079</td>\n      <td>0.000185</td>\n      <td>0.000011</td>\n      <td>0.000299</td>\n    </tr>\n    <tr>\n      <th>1</th>\n      <td>0.052644</td>\n      <td>0.007779</td>\n      <td>-0.013178</td>\n      <td>-0.011900</td>\n      <td>-0.009890</td>\n      <td>0.004895</td>\n      <td>-0.011826</td>\n      <td>-0.014831</td>\n      <td>-0.051013</td>\n      <td>0.052730</td>\n      <td>0.143087</td>\n      <td>0.052914</td>\n      <td>-0.034878</td>\n      <td>-0.053215</td>\n      <td>-0.020476</td>\n      <td>0.021011</td>\n    </tr>\n    <tr>\n      <th>2</th>\n      <td>-0.018937</td>\n      <td>-0.006850</td>\n      <td>-0.014828</td>\n      <td>-0.012735</td>\n      <td>-0.016893</td>\n      <td>-0.011796</td>\n      <td>-0.016083</td>\n      <td>-0.008713</td>\n      <td>-0.001338</td>\n      <td>-0.008554</td>\n      <td>0.177096</td>\n      <td>0.185288</td>\n      <td>0.006653</td>\n      <td>-0.047167</td>\n      <td>-0.014965</td>\n      <td>-0.040797</td>\n    </tr>\n    <tr>\n      <th>3</th>\n      <td>-0.017449</td>\n      <td>-0.009423</td>\n      <td>-0.020752</td>\n      <td>-0.019010</td>\n      <td>-0.024620</td>\n      <td>-0.015835</td>\n      <td>-0.023497</td>\n      <td>-0.013807</td>\n      <td>-0.008897</td>\n      <td>-0.002519</td>\n      <td>0.246563</td>\n      <td>0.245063</td>\n      <td>-0.026257</td>\n      <td>-0.035837</td>\n      <td>-0.030295</td>\n      <td>-0.040202</td>\n    </tr>\n    <tr>\n      <th>4</th>\n      <td>-0.019193</td>\n      <td>-0.009692</td>\n      <td>-0.021968</td>\n      <td>-0.019929</td>\n      <td>-0.025658</td>\n      <td>-0.016586</td>\n      <td>-0.024548</td>\n      <td>-0.014334</td>\n      <td>-0.008702</td>\n      <td>-0.003762</td>\n      <td>0.260248</td>\n      <td>0.259745</td>\n      <td>-0.043538</td>\n      <td>-0.024397</td>\n      <td>-0.029768</td>\n      <td>-0.046494</td>\n    </tr>\n    <tr>\n      <th>...</th>\n      <td>...</td>\n      <td>...</td>\n      <td>...</td>\n      <td>...</td>\n      <td>...</td>\n      <td>...</td>\n      <td>...</td>\n      <td>...</td>\n      <td>...</td>\n      <td>...</td>\n      <td>...</td>\n      <td>...</td>\n      <td>...</td>\n      <td>...</td>\n      <td>...</td>\n      <td>...</td>\n    </tr>\n    <tr>\n      <th>405819</th>\n      <td>-0.017999</td>\n      <td>-0.009966</td>\n      <td>-0.018244</td>\n      <td>-0.020071</td>\n      <td>-0.026619</td>\n      <td>-0.016393</td>\n      <td>-0.022933</td>\n      <td>-0.012371</td>\n      <td>-0.009561</td>\n      <td>-0.004790</td>\n      <td>0.247545</td>\n      <td>0.247177</td>\n      <td>0.058031</td>\n      <td>-0.138931</td>\n      <td>0.000381</td>\n      <td>-0.088700</td>\n    </tr>\n    <tr>\n      <th>405820</th>\n      <td>-0.018010</td>\n      <td>-0.009973</td>\n      <td>-0.018249</td>\n      <td>-0.020080</td>\n      <td>-0.026629</td>\n      <td>-0.016405</td>\n      <td>-0.022943</td>\n      <td>-0.012383</td>\n      <td>-0.009570</td>\n      <td>-0.004801</td>\n      <td>0.247942</td>\n      <td>0.247574</td>\n      <td>0.048608</td>\n      <td>-0.129188</td>\n      <td>-0.002052</td>\n      <td>-0.085681</td>\n    </tr>\n    <tr>\n      <th>405821</th>\n      <td>-0.018020</td>\n      <td>-0.009980</td>\n      <td>-0.018257</td>\n      <td>-0.020077</td>\n      <td>-0.026634</td>\n      <td>-0.016416</td>\n      <td>-0.022952</td>\n      <td>-0.012391</td>\n      <td>-0.009573</td>\n      <td>-0.004793</td>\n      <td>0.249757</td>\n      <td>0.249391</td>\n      <td>0.036568</td>\n      <td>-0.112828</td>\n      <td>-0.007677</td>\n      <td>-0.077072</td>\n    </tr>\n    <tr>\n      <th>405822</th>\n      <td>-0.018037</td>\n      <td>-0.009989</td>\n      <td>-0.018272</td>\n      <td>-0.020077</td>\n      <td>-0.026638</td>\n      <td>-0.016420</td>\n      <td>-0.022953</td>\n      <td>-0.012395</td>\n      <td>-0.009573</td>\n      <td>-0.004794</td>\n      <td>0.251253</td>\n      <td>0.250888</td>\n      <td>0.019876</td>\n      <td>-0.093358</td>\n      <td>-0.013501</td>\n      <td>-0.069212</td>\n    </tr>\n    <tr>\n      <th>405823</th>\n      <td>-0.018042</td>\n      <td>-0.009995</td>\n      <td>-0.018276</td>\n      <td>-0.020074</td>\n      <td>-0.026642</td>\n      <td>-0.016424</td>\n      <td>-0.022955</td>\n      <td>-0.012398</td>\n      <td>-0.009571</td>\n      <td>-0.004800</td>\n      <td>0.252799</td>\n      <td>0.252435</td>\n      <td>0.000201</td>\n      <td>-0.070767</td>\n      <td>-0.018614</td>\n      <td>-0.061896</td>\n    </tr>\n  </tbody>\n</table>\n<p>405824 rows × 16 columns</p>\n</div>"
     },
     "execution_count": 39,
     "metadata": {},
     "output_type": "execute_result"
    }
   ],
   "source": [
    "data_pd = pd.DataFrame(cue_set_01['data_device1'])\n",
    "\n",
    "data_pd"
   ]
  },
  {
   "cell_type": "markdown",
   "metadata": {},
   "source": [
    "### Investigating the data\n",
    "\n",
    "Plotting everything at once is obviously impossible to analyse and gauge. "
   ]
  },
  {
   "cell_type": "code",
   "execution_count": 40,
   "metadata": {
    "scrolled": false
   },
   "outputs": [
    {
     "data": {
      "text/plain": "<AxesSubplot:>"
     },
     "execution_count": 40,
     "metadata": {},
     "output_type": "execute_result"
    }
   ],
   "source": [
    "plt.figure()\n",
    "data_pd.iloc[0:100].plot()"
   ]
  },
  {
   "cell_type": "markdown",
   "metadata": {},
   "source": [
    "However, taking random subset of the data shows that majority of channels are unused. Experiment further with this to validate findings. \n",
    "\n",
    "Channels 0, 1, 12, 13, 14 and 15 seem to be the only relevant ones. (Channel 0 follows channel 1 almost perfectly, so could be redudant)\n",
    "\n",
    "It was stated in the e-mail that channel was EGM, that however doesnt really seem to add up here as these look like regular EEG values. \n"
   ]
  },
  {
   "cell_type": "code",
   "execution_count": 25,
   "metadata": {
    "scrolled": false
   },
   "outputs": [
    {
     "data": {
      "text/plain": "<AxesSubplot:>"
     },
     "execution_count": 25,
     "metadata": {},
     "output_type": "execute_result"
    }
   ],
   "source": [
    "plt.figure()\n",
    "data_pd.iloc[0:100].plot()"
   ]
  },
  {
   "cell_type": "code",
   "execution_count": 26,
   "metadata": {},
   "outputs": [
    {
     "data": {
      "text/plain": "<AxesSubplot:>"
     },
     "execution_count": 26,
     "metadata": {},
     "output_type": "execute_result"
    }
   ],
   "source": [
    "plt.figure()\n",
    "data_pd.iloc[100000:100100].plot()"
   ]
  },
  {
   "cell_type": "markdown",
   "metadata": {},
   "source": [
    "## Finding a on cue time\n"
   ]
  },
  {
   "cell_type": "markdown",
   "metadata": {},
   "source": [
    "trying to find a timeframe of whenever a cue appears in the dataset based on the timestamps given."
   ]
  },
  {
   "cell_type": "code",
   "execution_count": 27,
   "metadata": {},
   "outputs": [
    {
     "data": {
      "text/plain": "338.18666666666667"
     },
     "execution_count": 27,
     "metadata": {},
     "output_type": "execute_result"
    }
   ],
   "source": [
    "# Given we're recoding a 1200 Hz - we conclude that we can divide row numbers by sample_frequency and get the timeframe in seconds\n",
    "frequency = cue_set_01['sample_rate'][0][0]\n",
    "\n",
    "sec_recoding = data_pd.shape[0] / frequency \n",
    "\n",
    "sec_recoding"
   ]
  },
  {
   "cell_type": "code",
   "execution_count": 28,
   "metadata": {},
   "outputs": [
    {
     "data": {
      "text/plain": "array([[ 0.   ,  0.   ,  0.   ,  0.   ,  0.   , 23.996]])"
     },
     "execution_count": 28,
     "metadata": {},
     "output_type": "execute_result"
    }
   ],
   "source": [
    "time_start = cue_set_01['time_start_device1']\n",
    "cue_on = cue_set_01['time_cue_on']\n",
    "cue_off = cue_set_01['time_cue_off']\n",
    "\n",
    "cue_01 = np.subtract(cue_on[0], time_start)\n",
    "cue_01"
   ]
  },
  {
   "cell_type": "code",
   "execution_count": 29,
   "metadata": {},
   "outputs": [
    {
     "data": {
      "text/plain": "array([[ 0.   ,  0.   ,  0.   ,  0.   ,  0.   , 28.646]])"
     },
     "execution_count": 29,
     "metadata": {},
     "output_type": "execute_result"
    }
   ],
   "source": [
    "cue_01_off = np.subtract(cue_off[0], time_start)\n",
    "cue_01_off"
   ]
  },
  {
   "cell_type": "markdown",
   "metadata": {},
   "source": [
    "Based on these two values we try and crop the data in this timeframe"
   ]
  },
  {
   "cell_type": "code",
   "execution_count": 30,
   "metadata": {},
   "outputs": [],
   "source": [
    "start = int(cue_01[0][-1] * frequency)\n",
    "end = int(cue_01_off[0][-1] * frequency) "
   ]
  },
  {
   "cell_type": "code",
   "execution_count": 31,
   "metadata": {
    "scrolled": true
   },
   "outputs": [
    {
     "data": {
      "text/plain": "<AxesSubplot:>"
     },
     "execution_count": 31,
     "metadata": {},
     "output_type": "execute_result"
    }
   ],
   "source": [
    "plt.figure()\n",
    "data_pd.iloc[start:end].plot() "
   ]
  },
  {
   "cell_type": "markdown",
   "metadata": {},
   "source": [
    "It is very difficult to see anything, instead we break it down in individual channels."
   ]
  },
  {
   "cell_type": "code",
   "execution_count": 32,
   "metadata": {
    "scrolled": false
   },
   "outputs": [
    {
     "name": "stderr",
     "output_type": "stream",
     "text": [
      "<ipython-input-32-81ed78a76f3b>:5: RuntimeWarning: More than 20 figures have been opened. Figures created through the pyplot interface (`matplotlib.pyplot.figure`) are retained until explicitly closed and may consume too much memory. (To control this warning, see the rcParam `figure.max_open_warning`).\n",
      "  plt.figure()\n"
     ]
    }
   ],
   "source": [
    "# plt.rcParams['figure.figsize'] = [300, 10]\n",
    "\n",
    "\n",
    "for column in data_pd:\n",
    "    plt.figure()\n",
    "    plt.title(f'Channel: {column}')\n",
    "    data_pd[column].iloc[start:end].plot() \n"
   ]
  },
  {
   "cell_type": "code",
   "execution_count": 33,
   "metadata": {},
   "outputs": [],
   "source": [
    "# TODO find the average time between cue_on and cue_off to see how long each timeframe lasts for. "
   ]
  },
  {
   "cell_type": "code",
   "execution_count": 34,
   "metadata": {
    "scrolled": false
   },
   "outputs": [],
   "source": [
    "#zoomed version\n",
    "\n",
    "middle = int((start+end)/2)\n",
    "for column in data_pd:\n",
    "    plt.figure()\n",
    "    plt.title(f'Channel: {column}')\n",
    "    data_pd[column].iloc[(middle-50):(middle+50)].plot() "
   ]
  },
  {
   "cell_type": "code",
   "execution_count": 34,
   "metadata": {},
   "outputs": [],
   "source": []
  }
 ],
 "metadata": {
  "kernelspec": {
   "display_name": "Python 3",
   "language": "python",
   "name": "python3"
  },
  "language_info": {
   "codemirror_mode": {
    "name": "ipython",
    "version": 3
   },
   "file_extension": ".py",
   "mimetype": "text/x-python",
   "name": "python",
   "nbconvert_exporter": "python",
   "pygments_lexer": "ipython3",
   "version": "3.8.7"
  }
 },
 "nbformat": 4,
 "nbformat_minor": 4
}